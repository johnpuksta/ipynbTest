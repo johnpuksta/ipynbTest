{
 "cells": [
  {
   "cell_type": "code",
   "execution_count": 8,
   "metadata": {},
   "outputs": [
    {
     "name": "stdout",
     "output_type": "stream",
     "text": [
      "This is the first test function test test\n"
     ]
    }
   ],
   "source": [
    "from SourceCode import testFunction1\n",
    "\n",
    "testFunction1.testFunction1()"
   ]
  },
  {
   "cell_type": "code",
   "execution_count": 9,
   "metadata": {},
   "outputs": [
    {
     "ename": "TypeError",
     "evalue": "testFunction2() missing 1 required positional argument: 'input'",
     "output_type": "error",
     "traceback": [
      "\u001b[1;31m---------------------------------------------------------------------------\u001b[0m",
      "\u001b[1;31mTypeError\u001b[0m                                 Traceback (most recent call last)",
      "Cell \u001b[1;32mIn[9], line 3\u001b[0m\n\u001b[0;32m      1\u001b[0m \u001b[39mfrom\u001b[39;00m \u001b[39mSourceCode\u001b[39;00m \u001b[39mimport\u001b[39;00m testFunction2\n\u001b[1;32m----> 3\u001b[0m testFunction2\u001b[39m.\u001b[39;49mtestFunction2()\n",
      "\u001b[1;31mTypeError\u001b[0m: testFunction2() missing 1 required positional argument: 'input'"
     ]
    }
   ],
   "source": [
    "from SourceCode import testFunction2\n",
    "\n",
    "testFunction2.testFunction2()"
   ]
  }
 ],
 "metadata": {
  "kernelspec": {
   "display_name": "Python 3",
   "language": "python",
   "name": "python3"
  },
  "language_info": {
   "codemirror_mode": {
    "name": "ipython",
    "version": 3
   },
   "file_extension": ".py",
   "mimetype": "text/x-python",
   "name": "python",
   "nbconvert_exporter": "python",
   "pygments_lexer": "ipython3",
   "version": "3.11.4"
  },
  "orig_nbformat": 4
 },
 "nbformat": 4,
 "nbformat_minor": 2
}
