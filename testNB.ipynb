{
 "cells": [
  {
   "cell_type": "code",
   "execution_count": 26,
   "metadata": {},
   "outputs": [
    {
     "name": "stdout",
     "output_type": "stream",
     "text": [
      "This is the first test function test test\n"
     ]
    }
   ],
   "source": [
    "from SourceCode import testFunction1\n",
    "\n",
    "testFunction1.testFunction1()"
   ]
  },
  {
   "cell_type": "code",
   "execution_count": 27,
   "metadata": {},
   "outputs": [
    {
     "name": "stdout",
     "output_type": "stream",
     "text": [
      "This is the second test function with input: 3\n"
     ]
    }
   ],
   "source": [
    "from SourceCode import testFunction2\n",
    "\n",
    "testFunction2.testFunction2(3)"
   ]
  },
  {
   "cell_type": "code",
   "execution_count": 28,
   "metadata": {},
   "outputs": [
    {
     "name": "stdout",
     "output_type": "stream",
     "text": [
      "This is the first function for testClass\n",
      "This is the second function for testClass wtih input: 3\n"
     ]
    }
   ],
   "source": [
    "import SourceCode\n",
    "\n",
    "tC1 = testClass1.testClass()\n",
    "tC1.func1()\n",
    "tC1.func2(3)"
   ]
  }
 ],
 "metadata": {
  "kernelspec": {
   "display_name": "Python 3",
   "language": "python",
   "name": "python3"
  },
  "language_info": {
   "codemirror_mode": {
    "name": "ipython",
    "version": 3
   },
   "file_extension": ".py",
   "mimetype": "text/x-python",
   "name": "python",
   "nbconvert_exporter": "python",
   "pygments_lexer": "ipython3",
   "version": "3.11.4"
  },
  "orig_nbformat": 4
 },
 "nbformat": 4,
 "nbformat_minor": 2
}
